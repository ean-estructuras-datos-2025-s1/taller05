{
 "cells": [
  {
   "cell_type": "markdown",
   "id": "292c008bd499ca48",
   "metadata": {
    "editable": true,
    "slideshow": {
     "slide_type": ""
    },
    "tags": []
   },
   "source": [
    "# Estructura de Datos\n",
    "\n",
    "\n",
    "\n",
    "### Taller 05 - Listas de Nodos Sencillamente Encadenados\n",
    "\n",
    "Nombre del primer integrante:\n",
    "\n",
    "Nombre del segundo integrante:\n",
    "\n",
    "---"
   ]
  },
  {
   "cell_type": "markdown",
   "id": "53dd9b787152fceb",
   "metadata": {
    "editable": false,
    "slideshow": {
     "slide_type": ""
    },
    "tags": []
   },
   "source": [
    "En este taller vamos a trabajar con la clase departamento que ya está realizada para nosotros.\n",
    "El diagrama de clase de esta clase es el siguiente:\n",
    "\n",
    "![Clase Departamento](https://github.com/luiscobo/poo/blob/main/departamento.png?raw=true)\n",
    "\n",
    "Esta clase posee los siguientes atributos:\n",
    "\n",
    "* El *nombre* del departamento.\n",
    "* `cant_municipios`: que indica cuántos municipios están dentro de ese departamento.\n",
    "* `capital`: el nombre de la capital del departamento.\n",
    "* `superficie`: El área del departamento en metros cuadrados.\n",
    "* `poblacion`: el número de personas que habitan ese departamento.\n",
    "* `densidad`: el número de personas por metro cuadrado en el departamento.\n",
    "* `indice_desarrollo_humano`: nivel del progreso y bienestar de los habitantes del departamentos.\n",
    "* `fecha_creacion`: el año en el cual el departamento fue creado.\n",
    "* `region`: la región del país donde se encuentra el departamento: Amazonía, Caribe, Andina, Pacífico u Orinoquía.\n",
    "\n",
    "A partir de esto, desarrolle los siguientes ejercicios:\n"
   ]
  },
  {
   "cell_type": "markdown",
   "id": "1468facac8045740",
   "metadata": {
    "editable": false,
    "slideshow": {
     "slide_type": ""
    },
    "tags": []
   },
   "source": [
    "---\n",
    "\n",
    "### Ejercicio 1: funciones externas del departamento\n",
    "\n",
    "Escriba una función externa llamada `edad_departamento` que recibe un objeto de la clase `Departamento`\n",
    "y que retorne cuántos años han pasado desde la creación del departamento hasta el año 2025."
   ]
  },
  {
   "cell_type": "code",
   "execution_count": null,
   "id": "56d71ce4",
   "metadata": {},
   "outputs": [],
   "source": [
    "# Ejecute este código primero antes que todo para traer la clase departamento\n",
    "\n",
    "!rm ean_estructuras_datos.py\n",
    "!wget https://github.com/luiscobo/eands-20250-s1/raw/refs/heads/main/ean_estructuras_datos.py\n"
   ]
  },
  {
   "cell_type": "code",
   "execution_count": null,
   "id": "69f3c31225422c7a",
   "metadata": {
    "ExecuteTime": {
     "end_time": "2025-03-04T20:35:29.189515Z",
     "start_time": "2025-03-04T20:35:28.347665Z"
    },
    "editable": true,
    "slideshow": {
     "slide_type": ""
    },
    "tags": []
   },
   "outputs": [],
   "source": [
    "from ean_estructuras_datos import Departamento\n",
    "\n",
    "# Escribir la función edad_departamento\n",
    "\n"
   ]
  },
  {
   "cell_type": "markdown",
   "id": "15ef26b90079e82",
   "metadata": {
    "editable": false,
    "slideshow": {
     "slide_type": ""
    },
    "tags": []
   },
   "source": [
    "---\n",
    "\n",
    "Pruebas del ejercicio 1"
   ]
  },
  {
   "cell_type": "code",
   "execution_count": null,
   "id": "836cfcce705edeb4",
   "metadata": {
    "ExecuteTime": {
     "end_time": "2025-03-04T20:35:34.603364Z",
     "start_time": "2025-03-04T20:35:34.297835Z"
    },
    "editable": false,
    "slideshow": {
     "slide_type": ""
    },
    "tags": []
   },
   "outputs": [],
   "source": [
    "import unittest\n",
    "from ean_estructuras_datos import Departamento, leer_archivo_departamentos\n",
    "\n",
    "# Prueba de hallar_imc\n",
    "class TestEjercicio1(unittest.TestCase):\n",
    "    def test_edad_departamento(self):\n",
    "        lista = leer_archivo_departamentos()\n",
    "        self.assertEqual(97, edad_departamento(lista[0]))\n",
    "        self.assertEqual(58, edad_departamento(lista[11]))\n",
    "        self.assertEqual(115, edad_departamento(lista[31]))\n",
    "        print(\"Prueba superada 👍🏼\")\n",
    "\n",
    "# ----------------------------------------------\n",
    "unittest.main(argv=['', '-v', 'TestEjercicio1'], verbosity=2, exit=False);\n"
   ]
  },
  {
   "cell_type": "markdown",
   "id": "a5da2d0d7facd3e2",
   "metadata": {
    "editable": false,
    "slideshow": {
     "slide_type": ""
    },
    "tags": []
   },
   "source": [
    "---\n",
    "\n",
    "# Ejercicio 2: Los Nodos de Departamentos\n",
    "\n",
    "En este taller vamos a trabajar con una lista de departamentos a través de nodos sencillamente\n",
    "encadenados. Dado esto, defina la clase `NodoDepartamento` utilizando alguno de los esquemas\n",
    "vistos en clase."
   ]
  },
  {
   "cell_type": "code",
   "execution_count": null,
   "id": "65c4bf17d02fdba3",
   "metadata": {
    "ExecuteTime": {
     "end_time": "2025-03-04T20:35:39.155998Z",
     "start_time": "2025-03-04T20:35:39.146457Z"
    },
    "editable": true,
    "slideshow": {
     "slide_type": ""
    },
    "tags": []
   },
   "outputs": [],
   "source": [
    "from typing import Optional\n",
    "from dataclasses import dataclass\n",
    "\n",
    "# Definir la clase NodoDepartamento\n",
    "\n"
   ]
  },
  {
   "cell_type": "markdown",
   "id": "d0e52428d836c089",
   "metadata": {
    "editable": false,
    "slideshow": {
     "slide_type": ""
    },
    "tags": []
   },
   "source": [
    "---\n",
    "\n",
    "Prueba del Ejercicio 2"
   ]
  },
  {
   "cell_type": "code",
   "execution_count": null,
   "id": "6eb1b22e8d216420",
   "metadata": {
    "editable": false,
    "slideshow": {
     "slide_type": ""
    },
    "tags": []
   },
   "outputs": [],
   "source": [
    "import unittest\n",
    "from ean_estructuras_datos import Departamento, leer_archivo_departamentos\n",
    "\n",
    "# Prueba de hallar_imc\n",
    "class TestEjercicio2(unittest.TestCase):\n",
    "    def test_nodo_departamento(self):\n",
    "        lista = leer_archivo_departamentos()\n",
    "        nodo = NodoDepartamento(lista[0])\n",
    "        self.assertTrue('info' in nodo.__dict__)\n",
    "        self.assertTrue('siguiente' in nodo.__dict__)\n",
    "        print(\"Prueba superada 👍🏼\")\n",
    "\n",
    "\n",
    "# -------------------------------------------------------\n",
    "unittest.main(argv=['', '-v', 'TestEjercicio2'], verbosity=2, exit=False);\n"
   ]
  },
  {
   "cell_type": "markdown",
   "id": "69d1b9b33557bc51",
   "metadata": {
    "editable": false,
    "slideshow": {
     "slide_type": ""
    },
    "tags": []
   },
   "source": [
    "---\n",
    "\n",
    "# Ejercicio 3: Agregar un nodo al principio de la lista\n",
    "\n",
    "Vamos a tener una lista de nodos sencillamente encadenada de departamentos. Traduzca\n",
    "el siguiente algoritmo a Python que va a permitir agregar un nodo al principio de la\n",
    "lista.\n",
    "\n",
    "Esta función externa va a recibir la cabeza o primer elemento de la lista y el nuevo\n",
    "departamento que vamos a agregar al principio de la lista y va a retornar la cabeza de\n",
    "la lista, pero con el nuevo nodo.\n",
    "\n",
    "El algoritmo es el siguiente:\n",
    "\n",
    "```\n",
    "nuevo-nodo = NodoDepartamento(depto)\n",
    "si la cabeza está vacía entonces\n",
    "    asignarle a la cabeza el nuevo-nodo\n",
    "sino\n",
    "    al siguiente del nuevo-nodo asignarle la cabeza\n",
    "    asignarle a la cabeza el nuevo-nodo\n",
    "fin-sin\n",
    "retornar la cabeza de la lista\n",
    "```"
   ]
  },
  {
   "cell_type": "code",
   "execution_count": null,
   "id": "9da83c4ef81f88a0",
   "metadata": {
    "slideshow": {
     "slide_type": ""
    },
    "tags": []
   },
   "outputs": [],
   "source": [
    "from ean_estructuras_datos import Departamento\n",
    "\n",
    "# Función de agregar un nuevo nodo\n",
    "def agregar_nodo_al_principio(cabeza: NodoDepartamento, depto: Departamento) -> NodoDepartamento:\n",
    "    pass"
   ]
  },
  {
   "cell_type": "markdown",
   "id": "fa01a944eb9aa61e",
   "metadata": {
    "editable": false,
    "slideshow": {
     "slide_type": ""
    },
    "tags": []
   },
   "source": [
    "---\n",
    "\n",
    "Prueba del Ejercicio 3"
   ]
  },
  {
   "cell_type": "code",
   "execution_count": null,
   "id": "52aad5117ef46958",
   "metadata": {
    "editable": false,
    "slideshow": {
     "slide_type": ""
    },
    "tags": []
   },
   "outputs": [],
   "source": [
    "import unittest\n",
    "from ean_estructuras_datos import Departamento, leer_archivo_departamentos\n",
    "\n",
    "# Prueba de hallar_imc\n",
    "class TestEjercicio3(unittest.TestCase):\n",
    "    def test_ejercicio3(self):\n",
    "        lista = leer_archivo_departamentos()\n",
    "\n",
    "        cabeza: NodoDepartamento = None\n",
    "        cabeza = agregar_nodo_al_principio(cabeza, lista[11])\n",
    "        self.assertIsNotNone(cabeza)\n",
    "        self.assertIsNone(cabeza.siguiente)\n",
    "        self.assertEqual(\"Valledupar\", cabeza.info.capital)\n",
    "\n",
    "        cabeza = agregar_nodo_al_principio(cabeza, lista[28])\n",
    "        self.assertIsNotNone(cabeza)\n",
    "        self.assertIsNotNone(cabeza.siguiente)\n",
    "        actual: NodoDepartamento = cabeza\n",
    "        self.assertEqual(\"Sincelejo\", actual.info.capital)\n",
    "\n",
    "        actual = actual.siguiente\n",
    "        self.assertIsNotNone(actual)\n",
    "        self.assertIsNone(actual.siguiente)\n",
    "        self.assertEqual(\"Valledupar\", actual.info.capital)\n",
    "\n",
    "        cabeza = agregar_nodo_al_principio(cabeza, lista[0])\n",
    "        self.assertIsNotNone(cabeza)\n",
    "        self.assertIsNotNone(cabeza.siguiente)\n",
    "        self.assertIsNotNone(cabeza.siguiente.siguiente)\n",
    "        self.assertIsNone(cabeza.siguiente.siguiente.siguiente)\n",
    "\n",
    "        actual = cabeza\n",
    "        self.assertEqual(\"Leticia\", actual.info.capital)\n",
    "        actual = actual.siguiente\n",
    "        self.assertEqual(\"Sincelejo\", actual.info.capital)\n",
    "        actual = actual.siguiente\n",
    "        self.assertEqual(\"Valledupar\", actual.info.capital)\n",
    "        actual = actual.siguiente\n",
    "        self.assertIsNone(actual)\n",
    "\n",
    "        print(\"Prueba superada 👍🏼\")\n",
    "\n",
    "\n",
    "# --------------------------------------------------------\n",
    "unittest.main(argv=['', '-v', 'TestEjercicio3'], verbosity=2, exit=False);"
   ]
  },
  {
   "cell_type": "markdown",
   "id": "5cfc6f8eed4148cc",
   "metadata": {
    "editable": false,
    "slideshow": {
     "slide_type": ""
    },
    "tags": []
   },
   "source": [
    "---\n",
    "\n",
    "# Ejercicio 4: Agregar un nodo al final de la lista\n",
    "\n",
    "En esta ocasión vamos a tomar un departamento y lo vamos a colocar en un nodo\n",
    "al final de la lista de nodos sencillamente encadenados.\n",
    "\n",
    "![Insertar al Final](https://blogger.googleusercontent.com/img/b/R29vZ2xl/AVvXsEicoEOkfaRydyGrcGk0ifxpk1VRya46syPXDY2SsA-ZkyWUafeYx7qdmxxslbR5f4QYo4f-M9PTHOZwajShObqAgqDbK8qSqkihuIqwxPmPNgwHChxbC7tZIahC_EqH38m-97VmWNnTHGc/s1600/insert+node+at+tail+of+linked+list.jpg)\n",
    "\n",
    "Para ello vamos a seguir el siguiente algoritmo:\n",
    "\n",
    "```\n",
    "nuevo-nodo = NodoDepartamento(depto)\n",
    "si la cabeza está vacía entonces\n",
    "  a la cabeza asígnele el nuevo-nodo\n",
    "sino\n",
    "  a una variable p asignarle la cabeza\n",
    "  mientras que el siguiente de p no sea vacío\n",
    "      avanzar p a su siguiente\n",
    "  fin-mientras-que\n",
    "  al siguiente de p asignarle el nuevo-nodo\n",
    "fin-si\n",
    "retorne la cabeza\n",
    "```\n",
    "\n",
    "La función externa recibirá la cabeza de la lista de nodos y un departamento\n",
    "y retornarná la cabeza de la lista una vez finalice la inserción del nodo."
   ]
  },
  {
   "cell_type": "code",
   "execution_count": null,
   "id": "3d57eea37e19134a",
   "metadata": {
    "editable": true,
    "slideshow": {
     "slide_type": ""
    },
    "tags": []
   },
   "outputs": [],
   "source": [
    "# Ejercicio 4: Agregar al final\n",
    "\n",
    "def agregar_nodo_al_final(cabeza: NodoDepartamento, depto: Departamento) -> NodoDepartamento:\n",
    "    pass"
   ]
  },
  {
   "cell_type": "markdown",
   "id": "f99fbec26ef46110",
   "metadata": {
    "editable": false,
    "slideshow": {
     "slide_type": ""
    },
    "tags": []
   },
   "source": [
    "---\n",
    "\n",
    "Prueba del Ejercicio 4"
   ]
  },
  {
   "cell_type": "code",
   "execution_count": null,
   "id": "ccff11e65a96cc85",
   "metadata": {
    "editable": false,
    "slideshow": {
     "slide_type": ""
    },
    "tags": []
   },
   "outputs": [],
   "source": [
    "import unittest\n",
    "from ean_estructuras_datos import Departamento, leer_archivo_departamentos\n",
    "\n",
    "# Prueba de hallar_imc\n",
    "class TestEjercicio4(unittest.TestCase):\n",
    "    def test_ejercicio4(self):\n",
    "        lista = leer_archivo_departamentos()\n",
    "\n",
    "        cabeza: NodoDepartamento = None\n",
    "        cabeza = agregar_nodo_al_final(cabeza, lista[11])\n",
    "        self.assertIsNotNone(cabeza)\n",
    "        self.assertIsNone(cabeza.siguiente)\n",
    "        self.assertEqual(\"Valledupar\", cabeza.info.capital)\n",
    "\n",
    "        cabeza = agregar_nodo_al_final(cabeza, lista[28])\n",
    "        self.assertIsNotNone(cabeza)\n",
    "        self.assertIsNotNone(cabeza.siguiente)\n",
    "        actual: NodoDepartamento = cabeza\n",
    "        self.assertEqual(\"Valledupar\", actual.info.capital)\n",
    "\n",
    "        actual = actual.siguiente\n",
    "        self.assertIsNotNone(actual)\n",
    "        self.assertIsNone(actual.siguiente)\n",
    "        self.assertEqual(\"Sincelejo\", actual.info.capital)\n",
    "\n",
    "        cabeza = agregar_nodo_al_final(cabeza, lista[0])\n",
    "        self.assertIsNotNone(cabeza)\n",
    "        self.assertIsNotNone(cabeza.siguiente)\n",
    "        self.assertIsNotNone(cabeza.siguiente.siguiente)\n",
    "        self.assertIsNone(cabeza.siguiente.siguiente.siguiente)\n",
    "\n",
    "        actual = cabeza\n",
    "        self.assertEqual(\"Valledupar\", actual.info.capital)\n",
    "        actual = actual.siguiente\n",
    "        self.assertEqual(\"Sincelejo\", actual.info.capital)\n",
    "        actual = actual.siguiente\n",
    "        self.assertEqual(\"Leticia\", actual.info.capital)\n",
    "        actual = actual.siguiente\n",
    "        self.assertIsNone(actual)\n",
    "\n",
    "        print(\"Prueba superada 👍🏼\")\n",
    "\n",
    "\n",
    "# --------------------------------------------------------\n",
    "unittest.main(argv=['', '-v', 'TestEjercicio4'], verbosity=2, exit=False);"
   ]
  },
  {
   "cell_type": "markdown",
   "id": "102ade6d3387aae4",
   "metadata": {
    "editable": false,
    "slideshow": {
     "slide_type": ""
    },
    "tags": []
   },
   "source": [
    "---\n",
    "\n",
    "# Ejercicio 5: Agregar un elemento en una posición\n",
    "\n",
    "Ahora vamos a agregar un elemento en una posición o índice dado de la\n",
    "lista de nodos. Estas posiciones son números enteros que van desde cero\n",
    "en adelante.\n",
    "\n",
    "![Insertar nodo](https://blogger.googleusercontent.com/img/b/R29vZ2xl/AVvXsEg6b1fIBATk483P6x6kC7hHeEKQx6FXkAHXT6EBdi_hCD0y-M6xHO2Ud_BC0PbJyWX3uuJ7JuzNqXJ6RPGQUZGRjI2xgLnDS6B0OYCbAO0NZs4VqRUIuFIlf1-odCBlJEZNIPXNIW-_iBs/s1600/insert-node-after-given-node-of-linked-list.jpg)\n",
    "\n",
    "El algoritmo para insertar en una posición es el siguiente:\n",
    "\n",
    "```\n",
    "si la cabeza es vacía o la posición es cero entonces\n",
    "  agregar el depto al principio de la lista\n",
    "sino\n",
    "  haga el nodo igual a NodoDepartamento(depto)\n",
    "  haga actual igual a la cabeza\n",
    "  haga i igual a 1\n",
    "  mientras que i sea inferior a la posicion y el siguiente del actual no sea vacío:\n",
    "    avanzar actual al siguiente\n",
    "    súmele 1 a i\n",
    "  fin-mientras-que\n",
    "  haga al siguiente del nodo igual al siguiente de actual\n",
    "  haga al siguiente del actual igual al nodo\n",
    "fin-si\n",
    "retornar la cabeza\n",
    "```\n",
    "\n",
    "Ahora escriba y prueba el algoritmo."
   ]
  },
  {
   "cell_type": "code",
   "execution_count": null,
   "id": "ee7b75d7d7893093",
   "metadata": {
    "editable": true,
    "slideshow": {
     "slide_type": ""
    },
    "tags": []
   },
   "outputs": [],
   "source": [
    "# Ejercicio 5: Agregar nodo en posición\n",
    "def agregar_nodo_en_posicion(cabeza: NodoDepartamento, depto: Departamento, posicion: int) -> NodoDepartamento:\n",
    "    pass"
   ]
  },
  {
   "cell_type": "markdown",
   "id": "df232e7c6c710945",
   "metadata": {
    "editable": false,
    "slideshow": {
     "slide_type": ""
    },
    "tags": []
   },
   "source": [
    "---\n",
    "\n",
    "Prueba del Ejercicio 5"
   ]
  },
  {
   "cell_type": "code",
   "execution_count": null,
   "id": "dc5decb793b332c2",
   "metadata": {
    "editable": false,
    "slideshow": {
     "slide_type": ""
    },
    "tags": []
   },
   "outputs": [],
   "source": [
    "import unittest\n",
    "from ean_estructuras_datos import Departamento, leer_archivo_departamentos\n",
    "\n",
    "# Prueba de hallar_imc\n",
    "class TestEjercicio5(unittest.TestCase):\n",
    "    def test_ejercicio5(self):\n",
    "        lista = leer_archivo_departamentos()\n",
    "\n",
    "        cabeza: NodoDepartamento = None\n",
    "        cabeza = agregar_nodo_en_posicion(cabeza, lista[0], 0)\n",
    "        self.assertIsNotNone(cabeza)\n",
    "        self.assertIsNone(cabeza.siguiente)\n",
    "        self.assertEqual(\"Amazonas\", cabeza.info.nombre)\n",
    "\n",
    "        actual: NodoDepartamento = cabeza\n",
    "        for i in range(1, 20):\n",
    "            nodo = NodoDepartamento(lista[i])\n",
    "            actual.siguiente = nodo\n",
    "            actual = nodo\n",
    "\n",
    "        cabeza = agregar_nodo_en_posicion(cabeza, lista[32], 0)\n",
    "        self.assertIsNotNone(cabeza)\n",
    "        self.assertIsNotNone(cabeza.siguiente)\n",
    "        self.assertEqual(\"Vichada\", cabeza.info.nombre)\n",
    "\n",
    "        actual = cabeza.siguiente\n",
    "        i = 0\n",
    "        while actual is not None:\n",
    "            self.assertEqual(actual.info.nombre, lista[i].nombre)\n",
    "            actual = actual.siguiente\n",
    "            i = i + 1\n",
    "\n",
    "        cabeza = agregar_nodo_en_posicion(cabeza, lista[31], 40)\n",
    "        self.assertIsNotNone(cabeza)\n",
    "        actual = cabeza\n",
    "        while actual.siguiente is not None:\n",
    "            actual = actual.siguiente\n",
    "        self.assertEqual(\"Vaupés\", actual.info.nombre)\n",
    "\n",
    "        cabeza = None\n",
    "        for i in range(20):\n",
    "            cabeza = agregar_nodo_en_posicion(cabeza, lista[i], i)\n",
    "            self.assertIsNotNone(cabeza)\n",
    "\n",
    "        actual = cabeza\n",
    "        i = 0\n",
    "        while actual is not None:\n",
    "            self.assertEqual(actual.info.nombre, lista[i].nombre)\n",
    "            actual = actual.siguiente\n",
    "            i = i + 1\n",
    "\n",
    "        cabeza = agregar_nodo_en_posicion(cabeza, lista[30], 10)\n",
    "        self.assertIsNotNone(cabeza)\n",
    "        actual = cabeza\n",
    "        for i in range(10):\n",
    "            self.assertEqual(actual.info.nombre, lista[i].nombre)\n",
    "            actual = actual.siguiente\n",
    "        self.assertIsNotNone(actual)\n",
    "        self.assertEqual(lista[30].nombre, actual.info.nombre)\n",
    "        i = 10\n",
    "        actual = actual.siguiente\n",
    "        while actual is not None:\n",
    "            self.assertEqual(actual.info.nombre, lista[i].nombre)\n",
    "            actual = actual.siguiente\n",
    "            i = i + 1\n",
    "\n",
    "\n",
    "        print(\"Prueba superada 👍🏼\")\n",
    "\n",
    "\n",
    "# --------------------------------------------------------\n",
    "unittest.main(argv=['', '-v', 'TestEjercicio5'], verbosity=2, exit=False);"
   ]
  },
  {
   "cell_type": "markdown",
   "id": "4ade4354d3568a45",
   "metadata": {
    "editable": false,
    "slideshow": {
     "slide_type": ""
    },
    "tags": []
   },
   "source": [
    "# Ejercicio 6: eliminar el primer nodo de la lista\n",
    "\n",
    "Para eliminar un nodo de la lista vamos a utilizar el siguiente algoritmo:\n",
    "\n",
    "```\n",
    "si la cabeza no está vacía entonces\n",
    "    avanzar la cabeza al siguiente\n",
    "fin-si\n",
    "retornar la cabeza\n",
    "```\n",
    "\n",
    "Traslade ese algoritmo a Python:"
   ]
  },
  {
   "cell_type": "code",
   "execution_count": null,
   "id": "82a1a9bd5ba6e2e3",
   "metadata": {
    "ExecuteTime": {
     "end_time": "2025-03-04T20:36:00.707279Z",
     "start_time": "2025-03-04T20:36:00.700446Z"
    },
    "editable": true,
    "slideshow": {
     "slide_type": ""
    },
    "tags": []
   },
   "outputs": [],
   "source": [
    "# Ejercicio 6: eliminar el primer nodo\n",
    "\n",
    "def eliminar_primer_nodo(cabeza: NodoDepartamento) -> NodoDepartamento:\n",
    "    pass\n"
   ]
  },
  {
   "cell_type": "markdown",
   "id": "c6d9041e01d2d006",
   "metadata": {
    "editable": false,
    "slideshow": {
     "slide_type": ""
    },
    "tags": []
   },
   "source": [
    "---\n",
    "\n",
    "Prueba del ejercicio 6"
   ]
  },
  {
   "cell_type": "code",
   "execution_count": null,
   "id": "b23aca5bc4eb821c",
   "metadata": {
    "ExecuteTime": {
     "end_time": "2025-03-04T20:36:04.660589Z",
     "start_time": "2025-03-04T20:36:04.513928Z"
    },
    "editable": false,
    "slideshow": {
     "slide_type": ""
    },
    "tags": []
   },
   "outputs": [],
   "source": [
    "import unittest\n",
    "from ean_estructuras_datos import Departamento, leer_archivo_departamentos\n",
    "\n",
    "# Prueba de hallar_imc\n",
    "class TestEjercicio6(unittest.TestCase):\n",
    "    def test_ejercicio6(self):\n",
    "        lista = leer_archivo_departamentos()\n",
    "\n",
    "        cabeza: NodoDepartamento = None\n",
    "        actual: NodoDepartamento = None\n",
    "        for i in lista.indices:\n",
    "            if cabeza is None:\n",
    "                cabeza = NodoDepartamento(lista[i])\n",
    "                actual = cabeza\n",
    "            else:\n",
    "                actual.siguiente = NodoDepartamento(lista[i])\n",
    "                actual = actual.siguiente\n",
    "\n",
    "        cabeza = eliminar_primer_nodo(cabeza)\n",
    "        self.assertIsNotNone(cabeza)\n",
    "        actual = cabeza\n",
    "        for i in range(1, lista.tam):\n",
    "            self.assertIsNotNone(actual)\n",
    "            self.assertEqual(actual.info.nombre, lista[i].nombre)\n",
    "            actual = actual.siguiente\n",
    "\n",
    "        cabeza = eliminar_primer_nodo(cabeza)\n",
    "        self.assertIsNotNone(cabeza)\n",
    "        actual = cabeza\n",
    "        for i in range(2, lista.tam):\n",
    "            self.assertIsNotNone(actual)\n",
    "            self.assertEqual(actual.info.nombre, lista[i].nombre)\n",
    "            actual = actual.siguiente\n",
    "\n",
    "        cabeza = NodoDepartamento(lista[lista.tam - 1])\n",
    "        self.assertIsNotNone(cabeza)\n",
    "        cabeza = eliminar_primer_nodo(cabeza)\n",
    "        self.assertIsNone(cabeza)\n",
    "\n",
    "        print(\"Prueba superada 👍🏼\")\n",
    "\n",
    "\n",
    "# --------------------------------------------------------\n",
    "unittest.main(argv=['', '-v', 'TestEjercicio6'], verbosity=2, exit=False);"
   ]
  },
  {
   "cell_type": "markdown",
   "id": "6542748c6eb75484",
   "metadata": {
    "editable": false,
    "slideshow": {
     "slide_type": ""
    },
    "tags": []
   },
   "source": [
    "# Ejercicio 7: Eliminar nodo en una posición\n",
    "\n",
    "Ahora vamos a eliminar un nodo ubicado en una posición dada. Tenga en cuenta\n",
    "que las posiciones inician en cero. El algoritmo para eliminar un nodo en la\n",
    "posición dada, es el siguiente:\n",
    "\n",
    "```\n",
    "si la posicion es cero entonces\n",
    "  eliminar el primer nodo\n",
    "sino\n",
    "  haga actual igual a la cabeza\n",
    "  haga i igual a 1\n",
    "  mientras que i sea inferior a la posición y el siguiente del actual no sea vacío\n",
    "    avanzar actual al siguiente\n",
    "    sumarle uno a i\n",
    "  fin-mientras-que\n",
    "  si el siguiente del actual no es vacío:\n",
    "    haga al siguiente del actual igual al siguiente del siguiente del actual\n",
    "  fin-si\n",
    "fin-si\n",
    "retornar la cabeza\n",
    "```\n",
    "\n",
    "Traduzca este algoritmo a Python."
   ]
  },
  {
   "cell_type": "code",
   "execution_count": null,
   "id": "7beb5064ed9d2b75",
   "metadata": {
    "ExecuteTime": {
     "end_time": "2025-03-04T20:36:11.555425Z",
     "start_time": "2025-03-04T20:36:11.549296Z"
    },
    "editable": true,
    "slideshow": {
     "slide_type": ""
    },
    "tags": []
   },
   "outputs": [],
   "source": [
    "# Ejercicio 7: eliminar un nodo\n",
    "\n",
    "def eliminar_nodo_en_posicion(cab: NodoDepartamento, posicion: int) -> NodoDepartamento:\n",
    "    pass\n",
    "    "
   ]
  },
  {
   "cell_type": "markdown",
   "id": "32486ff57ab63355",
   "metadata": {
    "editable": false,
    "slideshow": {
     "slide_type": ""
    },
    "tags": []
   },
   "source": [
    "---\n",
    "\n",
    "Prueba del Ejercicio 7"
   ]
  },
  {
   "cell_type": "code",
   "execution_count": null,
   "id": "6336f1b30776163",
   "metadata": {
    "ExecuteTime": {
     "end_time": "2025-03-04T20:38:23.367059Z",
     "start_time": "2025-03-04T20:38:23.308918Z"
    },
    "editable": false,
    "slideshow": {
     "slide_type": ""
    },
    "tags": []
   },
   "outputs": [],
   "source": [
    "import unittest\n",
    "from ean_estructuras_datos import Departamento, leer_archivo_departamentos\n",
    "\n",
    "# Prueba de hallar_imc\n",
    "class TestEjercicio7(unittest.TestCase):\n",
    "    def __crear_lista(self) -> NodoDepartamento:\n",
    "        cabeza: NodoDepartamento = None\n",
    "        actual: NodoDepartamento = None\n",
    "        for i in self.lista.indices:\n",
    "            if cabeza is None:\n",
    "                cabeza = NodoDepartamento(self.lista[i])\n",
    "                actual = cabeza\n",
    "            else:\n",
    "                actual.siguiente = NodoDepartamento(self.lista[i])\n",
    "                actual = actual.siguiente\n",
    "        return cabeza\n",
    "\n",
    "\n",
    "    def test_ejercicio7(self):\n",
    "        self.lista = leer_archivo_departamentos()\n",
    "        cabeza = self.__crear_lista()\n",
    "\n",
    "        cabeza = eliminar_nodo_en_posicion(cabeza, 0)\n",
    "        self.assertIsNotNone(cabeza)\n",
    "        actual = cabeza\n",
    "        for i in range(1, self.lista.tam):\n",
    "            self.assertIsNotNone(actual)\n",
    "            self.assertEqual(actual.info.nombre, self.lista[i].nombre)\n",
    "            actual = actual.siguiente\n",
    "\n",
    "        cabeza = self.__crear_lista()\n",
    "        cabeza = eliminar_nodo_en_posicion(cabeza, 15)\n",
    "        self.assertIsNotNone(cabeza)\n",
    "        actual = cabeza\n",
    "        for i in range(15):\n",
    "            self.assertIsNotNone(actual)\n",
    "            self.assertEqual(actual.info.nombre, self.lista[i].nombre)\n",
    "            actual = actual.siguiente\n",
    "        for i in range(16, self.lista.tam):\n",
    "            self.assertIsNotNone(actual)\n",
    "            self.assertEqual(actual.info.nombre, self.lista[i].nombre)\n",
    "            actual = actual.siguiente\n",
    "\n",
    "        cabeza = self.__crear_lista()\n",
    "        cabeza = eliminar_nodo_en_posicion(cabeza, self.lista.tam - 1)\n",
    "        self.assertIsNotNone(cabeza)\n",
    "        actual = cabeza\n",
    "        for i in range(self.lista.tam - 1):\n",
    "            self.assertIsNotNone(actual)\n",
    "            self.assertEqual(actual.info.nombre, self.lista[i].nombre)\n",
    "            actual = actual.siguiente\n",
    "        self.assertIsNone(actual)\n",
    "        print(\"Prueba Superada 👍🏼\")\n",
    "\n",
    "\n",
    "# --------------------------------------------------------\n",
    "unittest.main(argv=['', '-v', 'TestEjercicio7'], verbosity=2, exit=False);"
   ]
  },
  {
   "cell_type": "markdown",
   "id": "f06c45d0-5323-42e4-bc6a-cfcb8d1830a7",
   "metadata": {
    "editable": false,
    "slideshow": {
     "slide_type": ""
    },
    "tags": []
   },
   "source": [
    "---\n",
    "\n",
    "# Ejercicio 8: Contar el número de nodos\n",
    "\n",
    "En este ejercicio debemos recorrer la lista, contando los nodos que hace parte de la lista. Su misión es escribir una función externa `tam_lista` que reciba la cabeza a una lista de nodos sencillamente encadenadas y retorna el número de nodos en la lista."
   ]
  },
  {
   "cell_type": "code",
   "execution_count": null,
   "id": "3f2a0bfd-4a1b-42b6-8740-0d6a5d8687b2",
   "metadata": {
    "editable": true,
    "slideshow": {
     "slide_type": ""
    },
    "tags": []
   },
   "outputs": [],
   "source": [
    "# Ejercicio 8: obtener el número de nodos de la lista\n",
    "\n",
    "\n",
    "    "
   ]
  },
  {
   "cell_type": "markdown",
   "id": "9002397e-f064-4975-a5bb-ff9d0f3610b2",
   "metadata": {
    "editable": false,
    "slideshow": {
     "slide_type": ""
    },
    "tags": []
   },
   "source": [
    "---\n",
    "\n",
    "Prueba del Ejercicio 8"
   ]
  },
  {
   "cell_type": "code",
   "execution_count": null,
   "id": "333bb5e4-b899-496c-95e9-c4a8573a9ecc",
   "metadata": {
    "editable": false,
    "slideshow": {
     "slide_type": ""
    },
    "tags": []
   },
   "outputs": [],
   "source": [
    "import unittest\n",
    "from ean_estructuras_datos import Departamento, leer_archivo_departamentos\n",
    "\n",
    "# Prueba de hallar_imc\n",
    "class TestEjercicio8(unittest.TestCase):\n",
    "    def __crear_lista(self, n: int) -> NodoDepartamento:\n",
    "        cabeza: NodoDepartamento = None\n",
    "        actual: NodoDepartamento = None\n",
    "        for i in range(n):\n",
    "            if cabeza is None:\n",
    "                cabeza = NodoDepartamento(self.lista[i])\n",
    "                actual = cabeza\n",
    "            else:\n",
    "                actual.siguiente = NodoDepartamento(self.lista[i])\n",
    "                actual = actual.siguiente\n",
    "        return cabeza\n",
    "    \n",
    "    def test_ejercicio8(self):\n",
    "        self.cabeza: NodoDepartamento = None\n",
    "        self.assertEqual(0, tam_lista(self.cabeza))\n",
    "        \n",
    "        self.lista = leer_archivo_departamentos()\n",
    "        self.cabeza = self.__crear_lista(self.lista.tam)\n",
    "        self.assertEqual(self.lista.tam, tam_lista(self.cabeza))\n",
    "\n",
    "        self.cabeza = self.__crear_lista(15)\n",
    "        self.assertEqual(15, tam_lista(self.cabeza))\n",
    "\n",
    "        self.cabeza = self.__crear_lista(1)\n",
    "        self.assertEqual(1, tam_lista(self.cabeza))\n",
    "\n",
    "\n",
    "# --------------------------------------------------------\n",
    "unittest.main(argv=['', '-v', 'TestEjercicio8'], verbosity=2, exit=False);    "
   ]
  },
  {
   "cell_type": "markdown",
   "id": "315efb42-d54a-4a8a-8bde-184015a05da0",
   "metadata": {
    "editable": false,
    "slideshow": {
     "slide_type": ""
    },
    "tags": []
   },
   "source": [
    "---\n",
    "\n",
    "# Ejercicio 9: Porcentajes\n",
    "\n",
    "Escribir una función externa llamada `ejercicio09` que reciba la cabeza de una lista de nodos sencillamente encadenada y el nombre de una región y que retorne el porcentaje de los departamentos de la lista que pertenecen a la región que se pasa como parámetro."
   ]
  },
  {
   "cell_type": "code",
   "execution_count": null,
   "id": "6bfd1751-85c4-470d-850c-e6bdc5956341",
   "metadata": {
    "editable": true,
    "slideshow": {
     "slide_type": ""
    },
    "tags": []
   },
   "outputs": [],
   "source": [
    "# Ejercicio 9\n",
    "\n"
   ]
  },
  {
   "cell_type": "markdown",
   "id": "0a88e2b2-d254-4b60-a20f-a6e9983da904",
   "metadata": {
    "editable": false,
    "slideshow": {
     "slide_type": ""
    },
    "tags": []
   },
   "source": [
    "---\n",
    "\n",
    "Prueba del Ejercicio 9"
   ]
  },
  {
   "cell_type": "code",
   "execution_count": null,
   "id": "97f39249-4f27-46f1-8bb4-22236c5c5c24",
   "metadata": {
    "editable": false,
    "slideshow": {
     "slide_type": ""
    },
    "tags": []
   },
   "outputs": [],
   "source": [
    "import unittest\n",
    "from ean_estructuras_datos import Departamento, leer_archivo_departamentos\n",
    "\n",
    "# Prueba de hallar_imc\n",
    "class TestEjercicio9(unittest.TestCase):\n",
    "    def __crear_lista(self) -> NodoDepartamento:\n",
    "        cabeza: NodoDepartamento = None\n",
    "        actual: NodoDepartamento = None\n",
    "        for i in self.lista.indices:\n",
    "            if cabeza is None:\n",
    "                cabeza = NodoDepartamento(self.lista[i])\n",
    "                actual = cabeza\n",
    "            else:\n",
    "                actual.siguiente = NodoDepartamento(self.lista[i])\n",
    "                actual = actual.siguiente\n",
    "        return cabeza\n",
    "\n",
    "    def test_ejercicio9(self):\n",
    "        self.lista = leer_archivo_departamentos()\n",
    "        self.cabeza: NodoDepartamento = self.__crear_lista()\n",
    "\n",
    "        self.assertAlmostEqual(18.1818, ejercicio09(self.cabeza, \"Amazonía\"), places=4)\n",
    "        self.assertAlmostEqual(33.3333, ejercicio09(self.cabeza, \"Andina\"), places=4)\n",
    "        self.assertAlmostEqual(24.2424, ejercicio09(self.cabeza, \"Caribe\"), places=4)\n",
    "        self.assertAlmostEqual(12.1212, ejercicio09(self.cabeza, \"Pacífico\"), places=4)\n",
    "\n",
    "\n",
    "# --------------------------------------------------------\n",
    "unittest.main(argv=['', '-v', 'TestEjercicio9'], verbosity=2, exit=False);\n",
    "print('Prueba superada 👍🏼')"
   ]
  },
  {
   "cell_type": "markdown",
   "id": "9181da0b-19a2-4d3c-9df1-a0ac79ce87f7",
   "metadata": {
    "editable": false,
    "slideshow": {
     "slide_type": ""
    },
    "tags": []
   },
   "source": [
    "##### ---\n",
    "\n",
    "# Ejercicio 10: Sumas\n",
    "\n",
    "Escriba una función externa llamada `ejercicio10` que reciba la cabeza de una lista de nodos sencillamente encadenadas, una región y una letra, y que retorne la suma de la población de los departamentos que pertenecen a la región que se recibe como parámetro y que la primera letra del nombre es igual a la letra que se recibe como parámetro y tienen más de 50 años de haber sido creados."
   ]
  },
  {
   "cell_type": "code",
   "execution_count": null,
   "id": "58e812b4-139b-4121-8c65-50ba3575f752",
   "metadata": {
    "editable": true,
    "slideshow": {
     "slide_type": ""
    },
    "tags": []
   },
   "outputs": [],
   "source": [
    "# Ejercicio 10\n",
    "\n"
   ]
  },
  {
   "cell_type": "markdown",
   "id": "5383a373-ee81-43cd-8109-4bef70687fdc",
   "metadata": {
    "editable": false,
    "slideshow": {
     "slide_type": ""
    },
    "tags": []
   },
   "source": [
    "---\n",
    "\n",
    "Prueba del ejercicio 10"
   ]
  },
  {
   "cell_type": "code",
   "execution_count": null,
   "id": "3ad487b3-0c7a-4d8a-ae55-ef5611d3322b",
   "metadata": {
    "editable": false,
    "slideshow": {
     "slide_type": ""
    },
    "tags": []
   },
   "outputs": [],
   "source": [
    "import unittest\n",
    "from ean_estructuras_datos import Departamento, leer_archivo_departamentos\n",
    "\n",
    "# Prueba de hallar_imc\n",
    "class TestEjercicio10(unittest.TestCase):\n",
    "    def __crear_lista(self) -> NodoDepartamento:\n",
    "        cabeza: NodoDepartamento = None\n",
    "        actual: NodoDepartamento = None\n",
    "        for i in self.lista.indices:\n",
    "            if cabeza is None:\n",
    "                cabeza = NodoDepartamento(self.lista[i])\n",
    "                actual = cabeza\n",
    "            else:\n",
    "                actual.siguiente = NodoDepartamento(self.lista[i])\n",
    "                actual = actual.siguiente\n",
    "        return cabeza\n",
    "\n",
    "    def test_ejercicio10(self):\n",
    "        self.lista = leer_archivo_departamentos()\n",
    "        self.cabeza: NodoDepartamento = self.__crear_lista()\n",
    "\n",
    "        self.assertEqual(9_151_627, ejercicio10(self.cabeza, 'Andina', 'B'))\n",
    "        self.assertEqual(3_582_373, ejercicio10(self.cabeza, 'Andina', 'C'))\n",
    "        self.assertEqual(2_662_154, ejercicio10(self.cabeza, 'Caribe', 'C'))\n",
    "        self.assertEqual(2_403_027, ejercicio10(self.cabeza, 'Caribe', 'A'))\n",
    "        self.assertEqual(0, ejercicio10(self.cabeza, 'Caribe', 'D'))\n",
    "        \n",
    "\n",
    "# --------------------------------------------------------\n",
    "unittest.main(argv=['', '-v', 'TestEjercicio10'], verbosity=2, exit=False);\n",
    "print('Prueba superada 👍🏼')"
   ]
  },
  {
   "cell_type": "code",
   "execution_count": null,
   "id": "63ca94f4-6b14-4ee2-9eda-ee36ebbccadd",
   "metadata": {},
   "outputs": [],
   "source": []
  }
 ],
 "metadata": {
  "kernelspec": {
   "display_name": "Python 3 (ipykernel)",
   "language": "python",
   "name": "python3"
  },
  "language_info": {
   "codemirror_mode": {
    "name": "ipython",
    "version": 3
   },
   "file_extension": ".py",
   "mimetype": "text/x-python",
   "name": "python",
   "nbconvert_exporter": "python",
   "pygments_lexer": "ipython3",
   "version": "3.10.16"
  }
 },
 "nbformat": 4,
 "nbformat_minor": 5
}
